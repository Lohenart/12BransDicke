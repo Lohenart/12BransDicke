{
 "cells": [
  {
   "cell_type": "markdown",
   "metadata": {},
   "source": [
    "# Definition of cosmological functions"
   ]
  },
  {
   "cell_type": "code",
   "execution_count": 3,
   "metadata": {
    "collapsed": true
   },
   "outputs": [],
   "source": [
    "import numpy as np\n",
    "from scipy.integrate import quad as intquad # To integrate\n",
    "from scipy.interpolate import interp1d # To interpolate the integral in the luminosity distance"
   ]
  },
  {
   "cell_type": "markdown",
   "metadata": {
    "collapsed": true
   },
   "source": [
    "NOTES\n"
   ]
  },
  {
   "cell_type": "markdown",
   "metadata": {},
   "source": [
    "## General fixed values"
   ]
  },
  {
   "cell_type": "code",
   "execution_count": 8,
   "metadata": {
    "collapsed": true
   },
   "outputs": [],
   "source": [
    "c = 299792.458  # Speed of light\n",
    "# OmRFix =0.000085 # Radiation component today\n",
    "\n",
    "aFactor = 8"
   ]
  },
  {
   "cell_type": "markdown",
   "metadata": {},
   "source": [
    "# Inverse of Dimensionless Hubble parameter"
   ]
  },
  {
   "cell_type": "markdown",
   "metadata": {},
   "source": [
    "### Omega function"
   ]
  },
  {
   "cell_type": "code",
   "execution_count": 5,
   "metadata": {
    "collapsed": false
   },
   "outputs": [],
   "source": [
    "# np.exp(10)"
   ]
  },
  {
   "cell_type": "code",
   "execution_count": 6,
   "metadata": {
    "collapsed": false
   },
   "outputs": [
    {
     "data": {
      "text/plain": [
       "-1.0144074760990267"
      ]
     },
     "execution_count": 6,
     "metadata": {},
     "output_type": "execute_result"
    }
   ],
   "source": [
    "# NEW\n",
    "# definition of w=e^(5*a)\n",
    "\n",
    "def Omega(OmL, OmM, a):\n",
    "    \"Definition of Omega bold as given by Norman\"\n",
    "    OmegaInt = OmL*6*(np.exp(aFactor*a)+1)/(3*np.exp(aFactor*a)+4) + OmM*(2*np.exp(aFactor*a)+3)/(2*np.exp(aFactor*a)+4) - 3*(1+np.exp(aFactor*a))/np.exp(aFactor*a) + np.sqrt(9/np.exp(aFactor*a)**2 - 6*(OmL + OmM*(2*np.exp(aFactor*a)+3)/(2*np.exp(aFactor*a)+4) - 1)/np.exp(aFactor*a))   \n",
    "    return OmegaInt\n",
    "\n",
    "# Omega(0.99, 0.01, 1)\n",
    "# -1.0112293704199862"
   ]
  },
  {
   "cell_type": "code",
   "execution_count": 129,
   "metadata": {
    "collapsed": false
   },
   "outputs": [
    {
     "data": {
      "text/plain": [
       "-1.0102213077413036"
      ]
     },
     "execution_count": 129,
     "metadata": {},
     "output_type": "execute_result"
    }
   ],
   "source": [
    "# Previous 1\n",
    "# definition of w=e^a\n",
    "'''\n",
    "def Omega(OmL, OmM, a):\n",
    "    \"Definition of Omega bold as given by Norman\"\n",
    "    OmegaInt = OmL*6*(np.exp(a)+1)/(3*np.exp(a)+4) + OmM*(2*np.exp(a)+3)/(2*np.exp(a)+4) - 3*(1+np.exp(a))/np.exp(a) + np.sqrt(9/np.exp(a)**2 - 6*(OmL + OmM*(2*np.exp(a)+3)/(2*np.exp(a)+4) - 1)/np.exp(a))      \n",
    "    return OmegaInt\n",
    "\n",
    "# Omega(0.99, 0.01, 8)\n",
    "# -1.0112293704199862\n",
    "'''\n",
    "0"
   ]
  },
  {
   "cell_type": "code",
   "execution_count": 120,
   "metadata": {
    "collapsed": false
   },
   "outputs": [
    {
     "data": {
      "text/plain": [
       "-1.0102215678219557"
      ]
     },
     "execution_count": 120,
     "metadata": {},
     "output_type": "execute_result"
    }
   ],
   "source": [
    "# Original definition of w\n",
    "'''\n",
    "def Omega(OmL, OmM, w):\n",
    "    \"Definition of Omega bold as given by Norman\"\n",
    "    OmegaInt = OmL*6*(w+1)/(3*w+4) + OmM*(2*w+3)/(2*w+4) - 3*(1+w)/w \n",
    "    + np.sqrt(9/w**2 - 6*(OmL + OmM*(2*w+3)/(2*w+4) - 1)/w)\n",
    "    return OmegaInt\n",
    "\n",
    "# Omega(0.99, 0.01, 3000)\n",
    "# -1.0102215678219557\n",
    "\n",
    "'''\n",
    "0"
   ]
  },
  {
   "cell_type": "markdown",
   "metadata": {},
   "source": [
    "### Inverse dimensionless Hubble parameter"
   ]
  },
  {
   "cell_type": "code",
   "execution_count": 110,
   "metadata": {
    "collapsed": false
   },
   "outputs": [],
   "source": [
    "# Redshift\n",
    "def InvEHubble_Simple(z, OmL, OmM, a):\n",
    "    \"Dimensionless Hubble parameter\"\n",
    "    # InvEHubbleSimpleInt = 1.0/np.sqrt((1.+z)**((3.*np.exp(a)+4.)/(np.exp(a)+1.))*(1. - Omega(OmL, OmM, a))\n",
    "    #                                   + Omega(OmL, OmM, a))\n",
    "    \n",
    "    InvEHubbleSimpleInt = 1.0/((1.+z)**((3.*np.exp(aFactor*a)+4.)/(np.exp(aFactor*a)+1.))*(1. - Omega(OmL, OmM, a))\n",
    "                                      + Omega(OmL, OmM, a))\n",
    "                                  \n",
    "    return InvEHubbleSimpleInt\n",
    "\n",
    "# Checking output\n",
    "# InvEHubble_Simple(1, 0.7, 0.3, 1000)\n",
    "# 0.24170488257679618"
   ]
  },
  {
   "cell_type": "code",
   "execution_count": 112,
   "metadata": {
    "collapsed": false
   },
   "outputs": [
    {
     "data": {
      "text/plain": [
       "0.40578034428331494"
      ]
     },
     "execution_count": 112,
     "metadata": {},
     "output_type": "execute_result"
    }
   ],
   "source": [
    "# InvEHubble_Simple(0.2, 0.99, 0.01, 8)\n",
    "# 0.24170488257679618"
   ]
  },
  {
   "cell_type": "markdown",
   "metadata": {},
   "source": [
    "## Luminosity distance $d_L$"
   ]
  },
  {
   "cell_type": "code",
   "execution_count": 113,
   "metadata": {
    "collapsed": false
   },
   "outputs": [],
   "source": [
    "# Luminosity distance\n",
    "def LumDist_Simple(z, OmL, OmM, a, Ho):\n",
    "    \"Luminosity distance\"\n",
    "    \n",
    "    LumDistSimpleInt = 0.\n",
    "    LumDistSimpleInt = c*(1.+z)*intquad(InvEHubble_Simple, 0., z, args=(OmL, OmM, a))[0]/Ho\n",
    "        \n",
    "    return LumDistSimpleInt\n",
    "\n",
    "# LumDist_Simple(1, 0.7, 0.3, 1000, 70.)\n",
    "# 3881.5276900078775"
   ]
  },
  {
   "cell_type": "markdown",
   "metadata": {
    "collapsed": true
   },
   "source": [
    "-----"
   ]
  },
  {
   "cell_type": "markdown",
   "metadata": {},
   "source": [
    "# Scratch"
   ]
  },
  {
   "cell_type": "code",
   "execution_count": 4,
   "metadata": {
    "collapsed": false
   },
   "outputs": [],
   "source": [
    "\n",
    "Par1_initial = 1\n",
    "Par2_initial = 0.00001\n",
    "Par3_initial = 4\n",
    "result = np.array([Par1_initial, Par2_initial, Par3_initial])\n"
   ]
  },
  {
   "cell_type": "code",
   "execution_count": 5,
   "metadata": {
    "collapsed": false
   },
   "outputs": [
    {
     "data": {
      "text/plain": [
       "array([  1.00000000e+00,   1.00000000e-05,   4.00000000e+00])"
      ]
     },
     "execution_count": 5,
     "metadata": {},
     "output_type": "execute_result"
    }
   ],
   "source": [
    "# result"
   ]
  },
  {
   "cell_type": "code",
   "execution_count": 7,
   "metadata": {
    "collapsed": false
   },
   "outputs": [
    {
     "data": {
      "text/plain": [
       "[array([  1.00074026e+00,  -5.57340992e-04,   4.00084464e+00]),\n",
       " array([  1.00006213e+00,   2.82561867e-04,   4.00015189e+00]),\n",
       " array([  1.00161403e+00,   8.90932599e-04,   4.00023244e+00]),\n",
       " array([  1.00011526e+00,   1.40197835e-03,   4.00123796e+00]),\n",
       " array([  9.99060930e-01,   1.33333016e-03,   4.00146919e+00]),\n",
       " array([  1.00076443e+00,  -8.15900264e-05,   3.99966608e+00]),\n",
       " array([  9.98844140e-01,  -1.32983607e-03,   4.00004365e+00]),\n",
       " array([  1.00095878e+00,   2.12747755e-04,   3.99941628e+00]),\n",
       " array([  9.98371733e-01,   2.47229469e-04,   4.00083726e+00]),\n",
       " array([  9.99865796e-01,  -1.02597899e-03,   3.99860523e+00])]"
      ]
     },
     "execution_count": 7,
     "metadata": {},
     "output_type": "execute_result"
    }
   ],
   "source": [
    "\n",
    "ndim, nwalkers = 3, 10\n",
    "pos = [result + 1e-3*np.random.randn(ndim) for i in range(nwalkers)]\n",
    "pos\n"
   ]
  },
  {
   "cell_type": "code",
   "execution_count": 9,
   "metadata": {
    "collapsed": false
   },
   "outputs": [
    {
     "data": {
      "text/plain": [
       "array([-0.79547446, -0.78610492,  0.14368176])"
      ]
     },
     "execution_count": 9,
     "metadata": {},
     "output_type": "execute_result"
    }
   ],
   "source": [
    "np.random.randn(3)"
   ]
  },
  {
   "cell_type": "code",
   "execution_count": 18,
   "metadata": {
    "collapsed": false
   },
   "outputs": [
    {
     "data": {
      "text/plain": [
       "-0.3558900241311909"
      ]
     },
     "execution_count": 18,
     "metadata": {},
     "output_type": "execute_result"
    }
   ],
   "source": [
    "np.random.randn()"
   ]
  },
  {
   "cell_type": "code",
   "execution_count": 13,
   "metadata": {
    "collapsed": false
   },
   "outputs": [
    {
     "data": {
      "text/plain": [
       "0.9321411755765278"
      ]
     },
     "execution_count": 13,
     "metadata": {},
     "output_type": "execute_result"
    }
   ],
   "source": [
    "np.random.random_sample()"
   ]
  },
  {
   "cell_type": "code",
   "execution_count": null,
   "metadata": {
    "collapsed": true
   },
   "outputs": [],
   "source": [
    "ndim, nwalkers = 3, 10\n",
    "pos = [result[0] + 1e-3*np.random.randn(1) for i in range(nwalkers)]\n",
    "pos"
   ]
  },
  {
   "cell_type": "code",
   "execution_count": 22,
   "metadata": {
    "collapsed": false
   },
   "outputs": [],
   "source": [
    "pos = []\n",
    "\n",
    "factorInitialChain = 1e-3\n",
    "\n",
    "for i in range(nwalkers):\n",
    "    pos += [result[0] + factorInitialChain*np.random.random_sample(),\n",
    "            result[1] + factorInitialChain*np.random.random_sample(),\n",
    "            result[2] + factorInitialChain*np.random.randn()]"
   ]
  },
  {
   "cell_type": "code",
   "execution_count": 23,
   "metadata": {
    "collapsed": false
   },
   "outputs": [
    {
     "data": {
      "text/plain": [
       "[1.0004247347341071,\n",
       " 0.00010180508708933843,\n",
       " 3.9983128134077441,\n",
       " 1.0004522112097063,\n",
       " 0.00049088860581868426,\n",
       " 3.9995914410749709,\n",
       " 1.0009625493830951,\n",
       " 0.00021701619795770665,\n",
       " 3.9985444448225693,\n",
       " 1.0003624636561259,\n",
       " 0.00045063433485821396,\n",
       " 4.0004133858630953,\n",
       " 1.0006687094891336,\n",
       " 2.1432811720226924e-05,\n",
       " 4.0005876553753428,\n",
       " 1.0005060839511526,\n",
       " 0.00082519017635768091,\n",
       " 3.9999785497615399,\n",
       " 1.0003028411503685,\n",
       " 4.8978361959227325e-05,\n",
       " 3.9995446671058454,\n",
       " 1.0009539046028573,\n",
       " 0.00018554897475091126,\n",
       " 3.9994330970373655,\n",
       " 1.0007751774830249,\n",
       " 0.00045335925671304413,\n",
       " 4.0001233971180854,\n",
       " 1.0003601523998311,\n",
       " 0.00023450490125024581,\n",
       " 4.0004977475573034]"
      ]
     },
     "execution_count": 23,
     "metadata": {},
     "output_type": "execute_result"
    }
   ],
   "source": [
    "pos"
   ]
  },
  {
   "cell_type": "code",
   "execution_count": null,
   "metadata": {
    "collapsed": true
   },
   "outputs": [],
   "source": []
  }
 ],
 "metadata": {
  "kernelspec": {
   "display_name": "Python 2",
   "language": "python",
   "name": "python2"
  },
  "language_info": {
   "codemirror_mode": {
    "name": "ipython",
    "version": 2
   },
   "file_extension": ".py",
   "mimetype": "text/x-python",
   "name": "python",
   "nbconvert_exporter": "python",
   "pygments_lexer": "ipython2",
   "version": "2.7.10"
  }
 },
 "nbformat": 4,
 "nbformat_minor": 0
}
