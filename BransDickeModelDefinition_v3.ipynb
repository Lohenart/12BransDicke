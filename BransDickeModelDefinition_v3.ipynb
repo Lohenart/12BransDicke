{
 "cells": [
  {
   "cell_type": "markdown",
   "metadata": {},
   "source": [
    "# Definition of cosmological functions"
   ]
  },
  {
   "cell_type": "code",
   "execution_count": 1,
   "metadata": {
    "collapsed": true
   },
   "outputs": [],
   "source": [
    "import numpy as np\n",
    "from scipy.integrate import quad as intquad # To integrate\n",
    "from scipy.interpolate import interp1d # To interpolate the integral in the luminosity distance"
   ]
  },
  {
   "cell_type": "markdown",
   "metadata": {
    "collapsed": true
   },
   "source": [
    "NOTES\n"
   ]
  },
  {
   "cell_type": "markdown",
   "metadata": {},
   "source": [
    "## General fixed values"
   ]
  },
  {
   "cell_type": "code",
   "execution_count": 21,
   "metadata": {
    "collapsed": true
   },
   "outputs": [],
   "source": [
    "c = 299792.458  # Speed of light\n",
    "# OmRFix =0.000085 # Radiation component today\n",
    "\n",
    "aFactor = 10"
   ]
  },
  {
   "cell_type": "markdown",
   "metadata": {},
   "source": [
    "# Inverse of Dimensionless Hubble parameter"
   ]
  },
  {
   "cell_type": "markdown",
   "metadata": {},
   "source": [
    "### Omega function"
   ]
  },
  {
   "cell_type": "code",
   "execution_count": 5,
   "metadata": {
    "collapsed": false
   },
   "outputs": [],
   "source": [
    "# np.exp(10)"
   ]
  },
  {
   "cell_type": "code",
   "execution_count": 6,
   "metadata": {
    "collapsed": false
   },
   "outputs": [
    {
     "data": {
      "text/plain": [
       "-1.0144074760990267"
      ]
     },
     "execution_count": 6,
     "metadata": {},
     "output_type": "execute_result"
    }
   ],
   "source": [
    "# NEW\n",
    "# definition of w=e^(5*a)\n",
    "\n",
    "def Omega(OmL, OmM, a):\n",
    "    \"Definition of Omega bold as given by Norman\"\n",
    "    OmegaInt = OmL*6*(np.exp(aFactor*a)+1)/(3*np.exp(aFactor*a)+4) + OmM*(2*np.exp(aFactor*a)+3)/(2*np.exp(aFactor*a)+4) - 3*(1+np.exp(aFactor*a))/np.exp(aFactor*a) + np.sqrt(9/np.exp(aFactor*a)**2 - 6*(OmL + OmM*(2*np.exp(aFactor*a)+3)/(2*np.exp(aFactor*a)+4) - 1)/np.exp(aFactor*a))   \n",
    "    return OmegaInt\n",
    "\n",
    "# Omega(0.99, 0.01, 1)\n",
    "# -1.0112293704199862"
   ]
  },
  {
   "cell_type": "code",
   "execution_count": 129,
   "metadata": {
    "collapsed": false
   },
   "outputs": [
    {
     "data": {
      "text/plain": [
       "-1.0102213077413036"
      ]
     },
     "execution_count": 129,
     "metadata": {},
     "output_type": "execute_result"
    }
   ],
   "source": [
    "# Previous 1\n",
    "# definition of w=e^a\n",
    "'''\n",
    "def Omega(OmL, OmM, a):\n",
    "    \"Definition of Omega bold as given by Norman\"\n",
    "    OmegaInt = OmL*6*(np.exp(a)+1)/(3*np.exp(a)+4) + OmM*(2*np.exp(a)+3)/(2*np.exp(a)+4) - 3*(1+np.exp(a))/np.exp(a) + np.sqrt(9/np.exp(a)**2 - 6*(OmL + OmM*(2*np.exp(a)+3)/(2*np.exp(a)+4) - 1)/np.exp(a))      \n",
    "    return OmegaInt\n",
    "\n",
    "# Omega(0.99, 0.01, 8)\n",
    "# -1.0112293704199862\n",
    "'''\n",
    "0"
   ]
  },
  {
   "cell_type": "code",
   "execution_count": 120,
   "metadata": {
    "collapsed": false
   },
   "outputs": [
    {
     "data": {
      "text/plain": [
       "-1.0102215678219557"
      ]
     },
     "execution_count": 120,
     "metadata": {},
     "output_type": "execute_result"
    }
   ],
   "source": [
    "# Original definition of w\n",
    "'''\n",
    "def Omega(OmL, OmM, w):\n",
    "    \"Definition of Omega bold as given by Norman\"\n",
    "    OmegaInt = OmL*6*(w+1)/(3*w+4) + OmM*(2*w+3)/(2*w+4) - 3*(1+w)/w \n",
    "    + np.sqrt(9/w**2 - 6*(OmL + OmM*(2*w+3)/(2*w+4) - 1)/w)\n",
    "    return OmegaInt\n",
    "\n",
    "# Omega(0.99, 0.01, 3000)\n",
    "# -1.0102215678219557\n",
    "\n",
    "'''\n",
    "0"
   ]
  },
  {
   "cell_type": "markdown",
   "metadata": {},
   "source": [
    "### Inverse dimensionless Hubble parameter"
   ]
  },
  {
   "cell_type": "code",
   "execution_count": 110,
   "metadata": {
    "collapsed": false
   },
   "outputs": [],
   "source": [
    "# Redshift\n",
    "def InvEHubble_Simple(z, OmL, OmM, a):\n",
    "    \"Dimensionless Hubble parameter\"\n",
    "    # InvEHubbleSimpleInt = 1.0/np.sqrt((1.+z)**((3.*np.exp(a)+4.)/(np.exp(a)+1.))*(1. - Omega(OmL, OmM, a))\n",
    "    #                                   + Omega(OmL, OmM, a))\n",
    "    \n",
    "    InvEHubbleSimpleInt = 1.0/((1.+z)**((3.*np.exp(aFactor*a)+4.)/(np.exp(aFactor*a)+1.))*(1. - Omega(OmL, OmM, a))\n",
    "                                      + Omega(OmL, OmM, a))\n",
    "                                  \n",
    "    return InvEHubbleSimpleInt\n",
    "\n",
    "# Checking output\n",
    "# InvEHubble_Simple(1, 0.7, 0.3, 1000)\n",
    "# 0.24170488257679618"
   ]
  },
  {
   "cell_type": "code",
   "execution_count": 112,
   "metadata": {
    "collapsed": false
   },
   "outputs": [
    {
     "data": {
      "text/plain": [
       "0.40578034428331494"
      ]
     },
     "execution_count": 112,
     "metadata": {},
     "output_type": "execute_result"
    }
   ],
   "source": [
    "# InvEHubble_Simple(0.2, 0.99, 0.01, 8)\n",
    "# 0.24170488257679618"
   ]
  },
  {
   "cell_type": "markdown",
   "metadata": {},
   "source": [
    "## Luminosity distance $d_L$"
   ]
  },
  {
   "cell_type": "code",
   "execution_count": 113,
   "metadata": {
    "collapsed": false
   },
   "outputs": [],
   "source": [
    "# Luminosity distance\n",
    "def LumDist_Simple(z, OmL, OmM, a, Ho):\n",
    "    \"Luminosity distance\"\n",
    "    \n",
    "    LumDistSimpleInt = 0.\n",
    "    LumDistSimpleInt = c*(1.+z)*intquad(InvEHubble_Simple, 0., z, args=(OmL, OmM, a))[0]/Ho\n",
    "        \n",
    "    return LumDistSimpleInt\n",
    "\n",
    "# LumDist_Simple(1, 0.7, 0.3, 1000, 70.)\n",
    "# 3881.5276900078775"
   ]
  },
  {
   "cell_type": "markdown",
   "metadata": {
    "collapsed": true
   },
   "source": [
    "-----"
   ]
  },
  {
   "cell_type": "markdown",
   "metadata": {},
   "source": [
    "# Scratch"
   ]
  },
  {
   "cell_type": "code",
   "execution_count": 4,
   "metadata": {
    "collapsed": false
   },
   "outputs": [
    {
     "data": {
      "text/plain": [
       "array([  1.00000000e+00,   1.00000000e-05,   4.00000000e+00])"
      ]
     },
     "execution_count": 4,
     "metadata": {},
     "output_type": "execute_result"
    }
   ],
   "source": [
    "# \"\"\"\n",
    "Par1_initial = 1\n",
    "Par2_initial = 0.00001\n",
    "Par3_initial = 4\n",
    "result = np.array([Par1_initial, Par2_initial, Par3_initial])\n",
    "\n",
    "result\n",
    "\n",
    "# \"\"\" \n"
   ]
  },
  {
   "cell_type": "code",
   "execution_count": 5,
   "metadata": {
    "collapsed": false
   },
   "outputs": [
    {
     "data": {
      "text/plain": [
       "[array([  9.98764683e-01,   1.05848973e-03,   3.99873217e+00]),\n",
       " array([  1.00137329e+00,  -4.69046144e-04,   3.99957325e+00]),\n",
       " array([  1.00158601e+00,  -8.46004429e-04,   4.00203245e+00]),\n",
       " array([  1.00040291e+00,   2.97547166e-03,   3.99856066e+00]),\n",
       " array([  1.00154807e+00,   1.09172963e-04,   4.00048760e+00]),\n",
       " array([  9.99178936e-01,   1.92086950e-05,   4.00075227e+00]),\n",
       " array([  1.00053768e+00,   3.74227432e-05,   3.99849791e+00]),\n",
       " array([  9.99514249e-01,   3.12787958e-04,   3.99959681e+00]),\n",
       " array([  1.00047717e+00,  -1.07927286e-03,   4.00100766e+00]),\n",
       " array([  9.98770459e-01,   2.99141773e-04,   4.00110780e+00])]"
      ]
     },
     "execution_count": 5,
     "metadata": {},
     "output_type": "execute_result"
    }
   ],
   "source": [
    "\n",
    "# \"\"\" \n",
    "ndim, nwalkers = 3, 10\n",
    "pos = [result + 1e-3*np.random.randn(ndim) for i in range(nwalkers)]\n",
    "pos\n",
    "\n",
    "# \"\"\" "
   ]
  },
  {
   "cell_type": "code",
   "execution_count": 6,
   "metadata": {
    "collapsed": false
   },
   "outputs": [
    {
     "data": {
      "text/plain": [
       "array([-0.30599242,  1.45503497, -0.63204996])"
      ]
     },
     "execution_count": 6,
     "metadata": {},
     "output_type": "execute_result"
    }
   ],
   "source": [
    "np.random.randn(3)"
   ]
  },
  {
   "cell_type": "code",
   "execution_count": 7,
   "metadata": {
    "collapsed": false
   },
   "outputs": [
    {
     "data": {
      "text/plain": [
       "array([-0.14121559])"
      ]
     },
     "execution_count": 7,
     "metadata": {},
     "output_type": "execute_result"
    }
   ],
   "source": [
    "np.random.randn(1)"
   ]
  },
  {
   "cell_type": "code",
   "execution_count": 9,
   "metadata": {
    "collapsed": false
   },
   "outputs": [
    {
     "data": {
      "text/plain": [
       "-0.037946203302111056"
      ]
     },
     "execution_count": 9,
     "metadata": {},
     "output_type": "execute_result"
    }
   ],
   "source": [
    "np.random.randn()"
   ]
  },
  {
   "cell_type": "code",
   "execution_count": 10,
   "metadata": {
    "collapsed": false
   },
   "outputs": [
    {
     "data": {
      "text/plain": [
       "array([ 0.10568124])"
      ]
     },
     "execution_count": 10,
     "metadata": {},
     "output_type": "execute_result"
    }
   ],
   "source": [
    "np.random.random_sample(1)"
   ]
  },
  {
   "cell_type": "code",
   "execution_count": 11,
   "metadata": {
    "collapsed": false
   },
   "outputs": [
    {
     "data": {
      "text/plain": [
       "0.727271087564396"
      ]
     },
     "execution_count": 11,
     "metadata": {},
     "output_type": "execute_result"
    }
   ],
   "source": [
    "np.random.random_sample()"
   ]
  },
  {
   "cell_type": "code",
   "execution_count": null,
   "metadata": {
    "collapsed": true
   },
   "outputs": [],
   "source": [
    "ndim, nwalkers = 3, 10\n",
    "pos = [result[0] + 1e-3*np.random.randn(1) for i in range(nwalkers)]\n",
    "pos"
   ]
  },
  {
   "cell_type": "code",
   "execution_count": 24,
   "metadata": {
    "collapsed": false
   },
   "outputs": [],
   "source": [
    "# \"\"\" \n",
    "pos = []\n",
    "factorInitialChain = 1e-3\n",
    "\n",
    "for i in range(nwalkers):\n",
    "    pos += [np.array([ result[0] - factorInitialChain*np.random.random_sample(),\n",
    "            result[1] + factorInitialChain*np.random.random_sample(),\n",
    "            result[2] + factorInitialChain*np.random.randn() ]) ]\n",
    "    \n",
    "# \"\"\" "
   ]
  },
  {
   "cell_type": "code",
   "execution_count": 25,
   "metadata": {
    "collapsed": false
   },
   "outputs": [
    {
     "data": {
      "text/plain": [
       "[array([  9.99309193e-01,  -8.28692486e-04,   4.00022227e+00]),\n",
       " array([  9.99431164e-01,  -3.63397822e-04,   4.00008051e+00]),\n",
       " array([  9.99400273e-01,  -8.97684045e-04,   3.99908091e+00]),\n",
       " array([  9.99730292e-01,  -7.82050603e-04,   3.99884247e+00]),\n",
       " array([  9.99974529e-01,  -3.99452508e-04,   4.00054488e+00]),\n",
       " array([  9.99857982e-01,  -6.85119267e-04,   3.99982782e+00]),\n",
       " array([  9.99885259e-01,  -8.57329528e-04,   3.99889070e+00]),\n",
       " array([  9.99100228e-01,  -5.83318826e-04,   3.99920305e+00]),\n",
       " array([  9.99186878e-01,  -2.39392495e-04,   4.00248321e+00]),\n",
       " array([  9.99078986e-01,  -1.66481402e-04,   3.99946599e+00])]"
      ]
     },
     "execution_count": 25,
     "metadata": {},
     "output_type": "execute_result"
    }
   ],
   "source": [
    "pos"
   ]
  },
  {
   "cell_type": "code",
   "execution_count": 14,
   "metadata": {
    "collapsed": false
   },
   "outputs": [
    {
     "data": {
      "text/plain": [
       "array([1, 2, 3])"
      ]
     },
     "execution_count": 14,
     "metadata": {},
     "output_type": "execute_result"
    }
   ],
   "source": [
    "np.array([1,2,3])"
   ]
  },
  {
   "cell_type": "code",
   "execution_count": null,
   "metadata": {
    "collapsed": true
   },
   "outputs": [],
   "source": []
  }
 ],
 "metadata": {
  "kernelspec": {
   "display_name": "Python 2",
   "language": "python",
   "name": "python2"
  },
  "language_info": {
   "codemirror_mode": {
    "name": "ipython",
    "version": 2
   },
   "file_extension": ".py",
   "mimetype": "text/x-python",
   "name": "python",
   "nbconvert_exporter": "python",
   "pygments_lexer": "ipython2",
   "version": "2.7.10"
  }
 },
 "nbformat": 4,
 "nbformat_minor": 0
}
