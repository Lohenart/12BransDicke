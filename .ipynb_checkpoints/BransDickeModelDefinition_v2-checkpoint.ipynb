{
 "cells": [
  {
   "cell_type": "markdown",
   "metadata": {},
   "source": [
    "# Definition of cosmological functions"
   ]
  },
  {
   "cell_type": "code",
   "execution_count": 16,
   "metadata": {
    "collapsed": true
   },
   "outputs": [],
   "source": [
    "import numpy as np\n",
    "from scipy.integrate import quad as intquad # To integrate\n",
    "from scipy.interpolate import interp1d # To interpolate the integral in the luminosity distance"
   ]
  },
  {
   "cell_type": "markdown",
   "metadata": {
    "collapsed": true
   },
   "source": [
    "NOTES\n"
   ]
  },
  {
   "cell_type": "markdown",
   "metadata": {},
   "source": [
    "## General fixed values"
   ]
  },
  {
   "cell_type": "code",
   "execution_count": 17,
   "metadata": {
    "collapsed": true
   },
   "outputs": [],
   "source": [
    "c = 299792.458  # Speed of light\n",
    "# OmRFix =0.000085 # Radiation component today"
   ]
  },
  {
   "cell_type": "markdown",
   "metadata": {},
   "source": [
    "# Inverse of Dimensionless Hubble parameter"
   ]
  },
  {
   "cell_type": "code",
   "execution_count": 102,
   "metadata": {
    "collapsed": false
   },
   "outputs": [
    {
     "data": {
      "text/plain": [
       "2980.9579870417283"
      ]
     },
     "execution_count": 102,
     "metadata": {},
     "output_type": "execute_result"
    }
   ],
   "source": [
    "# np.exp(8)"
   ]
  },
  {
   "cell_type": "code",
   "execution_count": 109,
   "metadata": {
    "collapsed": false
   },
   "outputs": [
    {
     "data": {
      "text/plain": [
       "-1.0112293704199862"
      ]
     },
     "execution_count": 109,
     "metadata": {},
     "output_type": "execute_result"
    }
   ],
   "source": [
    "# NEW\n",
    "# New definition of w=e^a\n",
    "def Omega(OmL, OmM, a):\n",
    "    \"Definition of Omega bold as given by Norman\"\n",
    "    OmegaInt = OmL*6*(np.exp(a)+1)/(3*np.exp(a)+4) \n",
    "    + OmM*(2*np.exp(a)+3)/(2*np.exp(a)+4) \n",
    "    - 3*(1+np.exp(a))/np.exp(a) \n",
    "    + np.sqrt(9/np.exp(a)**2 - 6*(OmL + OmM*(2*np.exp(a)+3)/(2*np.exp(a)+4) - 1)/np.exp(a))\n",
    "    return OmegaInt\n",
    "\n",
    "# Omega(0.99, 0.01, 8)\n",
    "# -1.0112293704199862"
   ]
  },
  {
   "cell_type": "code",
   "execution_count": 108,
   "metadata": {
    "collapsed": false
   },
   "outputs": [
    {
     "data": {
      "text/plain": [
       "-1.0102215678219557"
      ]
     },
     "execution_count": 108,
     "metadata": {},
     "output_type": "execute_result"
    }
   ],
   "source": [
    "# Original definition of w\n",
    "'''\n",
    "def Omega(OmL, OmM, w):\n",
    "    \"Definition of Omega bold as given by Norman\"\n",
    "    OmegaInt = OmL*6*(w+1)/(3*w+4) + OmM*(2*w+3)/(2*w+4) - 3*(1+w)/w \n",
    "    + np.sqrt(9/w**2 - 6*(OmL + OmM*(2*w+3)/(2*w+4) - 1)/w)\n",
    "    return OmegaInt\n",
    "\n",
    "Omega(0.99, 0.01, 3000)\n",
    "# -1.0102215678219557\n",
    "'''\n",
    "0"
   ]
  },
  {
   "cell_type": "code",
   "execution_count": 110,
   "metadata": {
    "collapsed": false
   },
   "outputs": [],
   "source": [
    "# Redshift\n",
    "def InvEHubble_Simple(z, OmL, OmM, a):\n",
    "    \"Dimensionless Hubble parameter\"\n",
    "    # InvEHubbleSimpleInt = 1.0/np.sqrt((1.+z)**((3.*np.exp(a)+4.)/(np.exp(a)+1.))*(1. - Omega(OmL, OmM, a))\n",
    "    #                                   + Omega(OmL, OmM, a))\n",
    "    \n",
    "    InvEHubbleSimpleInt = 1.0/((1.+z)**((3.*np.exp(a)+4.)/(np.exp(a)+1.))*(1. - Omega(OmL, OmM, a))\n",
    "                                      + Omega(OmL, OmM, a))\n",
    "                                  \n",
    "    return InvEHubbleSimpleInt\n",
    "\n",
    "# Checking output\n",
    "# InvEHubble_Simple(1, 0.7, 0.3, 1000)\n",
    "# 0.24170488257679618"
   ]
  },
  {
   "cell_type": "code",
   "execution_count": 112,
   "metadata": {
    "collapsed": false
   },
   "outputs": [
    {
     "data": {
      "text/plain": [
       "0.40578034428331494"
      ]
     },
     "execution_count": 112,
     "metadata": {},
     "output_type": "execute_result"
    }
   ],
   "source": [
    "# InvEHubble_Simple(0.2, 0.99, 0.01, 8)\n",
    "# 0.24170488257679618"
   ]
  },
  {
   "cell_type": "markdown",
   "metadata": {},
   "source": [
    "## Luminosity distance $d_L$"
   ]
  },
  {
   "cell_type": "code",
   "execution_count": 113,
   "metadata": {
    "collapsed": false
   },
   "outputs": [],
   "source": [
    "# Luminosity distance\n",
    "def LumDist_Simple(z, OmL, OmM, w, Ho):\n",
    "    \"Luminosity distance\"\n",
    "    \n",
    "    LumDistSimpleInt = 0.\n",
    "    LumDistSimpleInt = c*(1.+z)*intquad(InvEHubble_Simple, 0., z, args=(OmL, OmM, w))[0]/Ho\n",
    "        \n",
    "    return LumDistSimpleInt\n",
    "\n",
    "# LumDist_Simple(1, 0.7, 0.3, 1000, 70.)\n",
    "# 3881.5276900078775"
   ]
  },
  {
   "cell_type": "markdown",
   "metadata": {
    "collapsed": true
   },
   "source": [
    "-----"
   ]
  },
  {
   "cell_type": "markdown",
   "metadata": {},
   "source": [
    "# Scratch"
   ]
  },
  {
   "cell_type": "code",
   "execution_count": null,
   "metadata": {
    "collapsed": true
   },
   "outputs": [],
   "source": []
  },
  {
   "cell_type": "code",
   "execution_count": null,
   "metadata": {
    "collapsed": true
   },
   "outputs": [],
   "source": []
  },
  {
   "cell_type": "code",
   "execution_count": null,
   "metadata": {
    "collapsed": true
   },
   "outputs": [],
   "source": []
  }
 ],
 "metadata": {
  "kernelspec": {
   "display_name": "Python 2",
   "language": "python",
   "name": "python2"
  },
  "language_info": {
   "codemirror_mode": {
    "name": "ipython",
    "version": 2
   },
   "file_extension": ".py",
   "mimetype": "text/x-python",
   "name": "python",
   "nbconvert_exporter": "python",
   "pygments_lexer": "ipython2",
   "version": "2.7.10"
  }
 },
 "nbformat": 4,
 "nbformat_minor": 0
}
