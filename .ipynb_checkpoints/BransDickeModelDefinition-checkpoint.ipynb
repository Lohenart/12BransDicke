{
 "cells": [
  {
   "cell_type": "markdown",
   "metadata": {},
   "source": [
    "# Definition of cosmological functions"
   ]
  },
  {
   "cell_type": "code",
   "execution_count": 1,
   "metadata": {
    "collapsed": true
   },
   "outputs": [],
   "source": [
    "import numpy as np\n",
    "from scipy.integrate import quad as intquad # To integrate\n",
    "from scipy.interpolate import interp1d # To interpolate the integral in the luminosity distance"
   ]
  },
  {
   "cell_type": "markdown",
   "metadata": {
    "collapsed": true
   },
   "source": [
    "NOTES\n",
    "\n",
    "- The word \"simple\" in the name of the functions means that they are defined assuming:\n",
    "    - $\\Omega_b h^2 = 0$\n",
    "    - $\\Omega_r = 0$"
   ]
  },
  {
   "cell_type": "markdown",
   "metadata": {},
   "source": [
    "## General fixed values"
   ]
  },
  {
   "cell_type": "code",
   "execution_count": 2,
   "metadata": {
    "collapsed": true
   },
   "outputs": [],
   "source": [
    "c = 299792.458  # Speed of light\n",
    "# OmRFix =0.000085 # Radiation component today"
   ]
  },
  {
   "cell_type": "markdown",
   "metadata": {},
   "source": [
    "# Inverse of Dimensionless Hubble parameter"
   ]
  },
  {
   "cell_type": "code",
   "execution_count": 3,
   "metadata": {
    "collapsed": false
   },
   "outputs": [],
   "source": [
    "# Redshift\n",
    "def InvEHubble_Simple(z, w, OmL, OmNu):\n",
    "    \"Dimensionless Hubble parameter\"\n",
    "    InvEHubbleSimpleInt = 1.0/np.sqrt((1.+z)**((3.*w+4.)/(w +1.))*(1. - OmL*((3.*w+2.)/(3.*w+4.)) + OmNu*w*0.5) \n",
    "                                      + OmL*((3.*w+2.)/(3.*w+4.)) \n",
    "                                      - OmNu*w*0.5)   \n",
    "    # InvEHubbleSimpleInt = (1. - OmL*((3.*w+2.)/(3.*w+4.)) + OmNu*w*0.5) + OmL*((3.*w+2.)/(3.*w+4.)) - OmNu*w*0.5\n",
    "    return InvEHubbleSimpleInt\n",
    "\n",
    "# Checking output\n",
    "# InvEHubble_Simple(1., 100., 0.7, 2.)\n",
    "# 0.03756484482445327"
   ]
  },
  {
   "cell_type": "markdown",
   "metadata": {},
   "source": [
    "## Luminosity distance $d_L$"
   ]
  },
  {
   "cell_type": "code",
   "execution_count": 4,
   "metadata": {
    "collapsed": false
   },
   "outputs": [],
   "source": [
    "# Luminosity distance\n",
    "def LumDist_Simple(z, w, OmL, OmNu, Ho):\n",
    "    \"Luminosity distance\"\n",
    "    \n",
    "    LumDistSimpleInt = 0.\n",
    "    LumDistSimpleInt = c*(1.+z)*intquad(InvEHubble_Simple, 0., z, args=(w, OmL, OmNu))[0]/Ho\n",
    "        \n",
    "    return LumDistSimpleInt\n",
    "\n",
    "# LumDist_Simple(1., 100., 0.7, 2., 70.)\n",
    "# 800.7824686502969"
   ]
  },
  {
   "cell_type": "code",
   "execution_count": null,
   "metadata": {
    "collapsed": true
   },
   "outputs": [],
   "source": []
  },
  {
   "cell_type": "markdown",
   "metadata": {
    "collapsed": true
   },
   "source": [
    "-----"
   ]
  },
  {
   "cell_type": "markdown",
   "metadata": {},
   "source": [
    "## Dimensionless luminosity distance $D_L$"
   ]
  },
  {
   "cell_type": "markdown",
   "metadata": {},
   "source": [
    "This definition is useful to marginalize analytically to $\\mathcal{M} \\equiv 25 + M + 5\\log_{10}(c/H_0)$ when using SNe."
   ]
  },
  {
   "cell_type": "code",
   "execution_count": 8,
   "metadata": {
    "collapsed": false
   },
   "outputs": [
    {
     "data": {
      "text/plain": [
       "45.30877945928733"
      ]
     },
     "execution_count": 8,
     "metadata": {},
     "output_type": "execute_result"
    }
   ],
   "source": [
    "# Luminosity distance\n",
    "def DL(z, OmM, wde, wa, Ho, OmBh2, OmR):\n",
    "    \"Luminosity distance\"\n",
    "    \n",
    "    LumDistanceVecInt = 0.\n",
    "    \n",
    "    LumDistanceVecInt = (1.+z)*intquad(InvEHubblePar, 0., z, args=(OmM, wde, wa, Ho, OmBh2, OmR))[0]\n",
    "        \n",
    "    # LumDistanceVecIntArray = np.array[LumDistanceVecInt]\n",
    "    \n",
    "    # return LumDistanceVecIntArray\n",
    "    return LumDistanceVecInt\n",
    "\n",
    "# LumDistanceVec(0.0105, 0.3, -0.9, -0.1, 70., 0.0221, 0.0000612)"
   ]
  },
  {
   "cell_type": "code",
   "execution_count": null,
   "metadata": {
    "collapsed": true
   },
   "outputs": [],
   "source": [
    "# 45.30877945928733"
   ]
  },
  {
   "cell_type": "code",
   "execution_count": 9,
   "metadata": {
    "collapsed": false
   },
   "outputs": [
    {
     "data": {
      "text/plain": [
       "0.010579373725118642"
      ]
     },
     "execution_count": 9,
     "metadata": {},
     "output_type": "execute_result"
    }
   ],
   "source": [
    "# Luminosity distance\n",
    "def DL_Simple(z, OmM, wde, wa):\n",
    "    \"Luminosity distance\"\n",
    "    \n",
    "    DL_SimpleInt = 0.\n",
    "    DL_SimpleInt = (1.+z)*intquad(InvEHubble_Simple, 0., z, args=(OmM, wde, wa))[0]\n",
    "        \n",
    "    return DL_SimpleInt\n",
    "\n",
    "# DL_Simple(0.0105, 0.3, -0.9, -0.1)"
   ]
  },
  {
   "cell_type": "code",
   "execution_count": null,
   "metadata": {
    "collapsed": true
   },
   "outputs": [],
   "source": [
    "# 0.010579373725118642"
   ]
  },
  {
   "cell_type": "code",
   "execution_count": null,
   "metadata": {
    "collapsed": true
   },
   "outputs": [],
   "source": []
  },
  {
   "cell_type": "markdown",
   "metadata": {},
   "source": [
    "# Scratch"
   ]
  },
  {
   "cell_type": "code",
   "execution_count": null,
   "metadata": {
    "collapsed": true
   },
   "outputs": [],
   "source": []
  },
  {
   "cell_type": "code",
   "execution_count": null,
   "metadata": {
    "collapsed": true
   },
   "outputs": [],
   "source": []
  },
  {
   "cell_type": "code",
   "execution_count": null,
   "metadata": {
    "collapsed": true
   },
   "outputs": [],
   "source": []
  }
 ],
 "metadata": {
  "kernelspec": {
   "display_name": "Python 2",
   "language": "python",
   "name": "python2"
  },
  "language_info": {
   "codemirror_mode": {
    "name": "ipython",
    "version": 2
   },
   "file_extension": ".py",
   "mimetype": "text/x-python",
   "name": "python",
   "nbconvert_exporter": "python",
   "pygments_lexer": "ipython2",
   "version": "2.7.10"
  }
 },
 "nbformat": 4,
 "nbformat_minor": 0
}
