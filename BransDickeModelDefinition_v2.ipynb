{
 "cells": [
  {
   "cell_type": "markdown",
   "metadata": {},
   "source": [
    "# Definition of cosmological functions"
   ]
  },
  {
   "cell_type": "code",
   "execution_count": 1,
   "metadata": {
    "collapsed": true
   },
   "outputs": [],
   "source": [
    "import numpy as np\n",
    "from scipy.integrate import quad as intquad # To integrate\n",
    "from scipy.interpolate import interp1d # To interpolate the integral in the luminosity distance"
   ]
  },
  {
   "cell_type": "markdown",
   "metadata": {
    "collapsed": true
   },
   "source": [
    "NOTES\n"
   ]
  },
  {
   "cell_type": "markdown",
   "metadata": {},
   "source": [
    "## General fixed values"
   ]
  },
  {
   "cell_type": "code",
   "execution_count": 3,
   "metadata": {
    "collapsed": true
   },
   "outputs": [],
   "source": [
    "c = 299792.458  # Speed of light\n",
    "# OmRFix =0.000085 # Radiation component today"
   ]
  },
  {
   "cell_type": "markdown",
   "metadata": {},
   "source": [
    "# Inverse of Dimensionless Hubble parameter"
   ]
  },
  {
   "cell_type": "code",
   "execution_count": null,
   "metadata": {
    "collapsed": true
   },
   "outputs": [],
   "source": []
  },
  {
   "cell_type": "code",
   "execution_count": 4,
   "metadata": {
    "collapsed": true
   },
   "outputs": [],
   "source": [
    "# Original definition of w\n",
    "def Omega(OmL, OmM, w):\n",
    "    \"Definition of Omega bold as given by Norman\"\n",
    "    OmegaInt = OmL*6*(w+1)/(3*w+4) + OmM*(2*w+3)/(2*w+4) - 3(1+w)/w \n",
    "    + np.sqrt(9/w**2 - 6*(OmL + OmM*(2*w+3)/(2*w+4) - 1)/w)\n",
    "    return OmegaInt"
   ]
  },
  {
   "cell_type": "code",
   "execution_count": 6,
   "metadata": {
    "collapsed": false
   },
   "outputs": [
    {
     "data": {
      "text/plain": [
       "-1.3006157458717722"
      ]
     },
     "execution_count": 6,
     "metadata": {},
     "output_type": "execute_result"
    }
   ],
   "source": [
    "# Omega(0.7, 0.3, 1000)\n",
    "# -1.3006157458717722"
   ]
  },
  {
   "cell_type": "code",
   "execution_count": 7,
   "metadata": {
    "collapsed": false
   },
   "outputs": [],
   "source": [
    "# Redshift\n",
    "def InvEHubble_Simple(z, OmL, OmM, w):\n",
    "    \"Dimensionless Hubble parameter\"\n",
    "    InvEHubbleSimpleInt = 1.0/np.sqrt((1.+z)**((3.*w+4.)/(w +1.))*(1. - Omega(OmL, OmM, w))\n",
    "                                      + Omega(OmL, OmM, w))\n",
    "                                  \n",
    "    return InvEHubbleSimpleInt\n",
    "\n",
    "# Checking output\n",
    "# InvEHubble_Simple(1, 0.7, 0.3, 1000)\n",
    "# 0.24170488257679618"
   ]
  },
  {
   "cell_type": "markdown",
   "metadata": {},
   "source": [
    "## Luminosity distance $d_L$"
   ]
  },
  {
   "cell_type": "code",
   "execution_count": 10,
   "metadata": {
    "collapsed": false
   },
   "outputs": [],
   "source": [
    "# Luminosity distance\n",
    "def LumDist_Simple(z, OmL, OmM, w, Ho):\n",
    "    \"Luminosity distance\"\n",
    "    \n",
    "    LumDistSimpleInt = 0.\n",
    "    LumDistSimpleInt = c*(1.+z)*intquad(InvEHubble_Simple, 0., z, args=(OmL, OmM, w))[0]/Ho\n",
    "        \n",
    "    return LumDistSimpleInt\n",
    "\n",
    "# LumDist_Simple(1, 0.7, 0.3, 1000, 70.)\n",
    "# 3881.5276900078775"
   ]
  },
  {
   "cell_type": "markdown",
   "metadata": {
    "collapsed": true
   },
   "source": [
    "-----"
   ]
  },
  {
   "cell_type": "markdown",
   "metadata": {},
   "source": [
    "# Scratch"
   ]
  },
  {
   "cell_type": "code",
   "execution_count": null,
   "metadata": {
    "collapsed": true
   },
   "outputs": [],
   "source": []
  },
  {
   "cell_type": "code",
   "execution_count": null,
   "metadata": {
    "collapsed": true
   },
   "outputs": [],
   "source": []
  },
  {
   "cell_type": "code",
   "execution_count": null,
   "metadata": {
    "collapsed": true
   },
   "outputs": [],
   "source": []
  }
 ],
 "metadata": {
  "kernelspec": {
   "display_name": "Python 2",
   "language": "python",
   "name": "python2"
  },
  "language_info": {
   "codemirror_mode": {
    "name": "ipython",
    "version": 2
   },
   "file_extension": ".py",
   "mimetype": "text/x-python",
   "name": "python",
   "nbconvert_exporter": "python",
   "pygments_lexer": "ipython2",
   "version": "2.7.10"
  }
 },
 "nbformat": 4,
 "nbformat_minor": 0
}
