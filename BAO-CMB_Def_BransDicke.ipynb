{
 "cells": [
  {
   "cell_type": "markdown",
   "metadata": {},
   "source": [
    "# BAO and CMB main function definitions"
   ]
  },
  {
   "cell_type": "code",
   "execution_count": 1,
   "metadata": {
    "collapsed": true
   },
   "outputs": [],
   "source": [
    "import numpy as np"
   ]
  },
  {
   "cell_type": "markdown",
   "metadata": {},
   "source": [
    "### TEMPORAL\n",
    "\n",
    "Once I finish to edit this notebook, erase the following cell where it is defined the fixed values."
   ]
  },
  {
   "cell_type": "code",
   "execution_count": null,
   "metadata": {
    "collapsed": true
   },
   "outputs": [],
   "source": []
  },
  {
   "cell_type": "markdown",
   "metadata": {
    "collapsed": true
   },
   "source": [
    "NOTES\n",
    "\n",
    "- The word \"simple\" in the name of the functions means that they are defined assuming:\n",
    "    - $\\Omega_b h^2 = 0$\n",
    "    - $\\Omega_r = 0$"
   ]
  },
  {
   "cell_type": "markdown",
   "metadata": {},
   "source": [
    "$d_L = (1+z)^2 D_A$\n",
    "\n",
    "$d_L$ = luminosity distance\n",
    "\n",
    "$D_A$ = Angular diameter distance\n",
    "\n",
    "$D_A = \\frac{c}{H_0} \\frac{{\\rm Sinx} \\left[ H_0 \\sqrt{|\\Omega_K|} \\int^z_0 (dz/H(z)) \\right] }{(1+z)\\sqrt{|\\Omega_K}|}$\n",
    "\n",
    "with Sinx = $\\sin(x)$, $x$, $\\sinh (x)$ for $\\Omega_k <0, \\Omega_k=0, \\Omega_k>0$ respectively"
   ]
  },
  {
   "cell_type": "markdown",
   "metadata": {},
   "source": [
    "# BAO"
   ]
  },
  {
   "cell_type": "code",
   "execution_count": 2,
   "metadata": {
    "collapsed": false
   },
   "outputs": [
    {
     "name": "stdout",
     "output_type": "stream",
     "text": [
      "For BAO:\n"
     ]
    }
   ],
   "source": [
    "print \"For BAO:\""
   ]
  },
  {
   "cell_type": "markdown",
   "metadata": {},
   "source": [
    "## $z_{drag}$ of Einsenstein & Hu, 1998\n",
    "\n",
    "Eisenstein-Hu-1998-BaryonicFeaturesInTheMatterTransferFunction-N.pdf. Equation (4)"
   ]
  },
  {
   "cell_type": "code",
   "execution_count": 3,
   "metadata": {
    "collapsed": false
   },
   "outputs": [
    {
     "data": {
      "text/plain": [
       "1019.8530867914026"
      ]
     },
     "execution_count": 3,
     "metadata": {},
     "output_type": "execute_result"
    }
   ],
   "source": [
    "def z_drag(OmM, Ho, OmBh2):\n",
    "    \"z_drag of Einsenstein and Hu\"\n",
    "    \n",
    "    # OmBh2=(OmB*(Ho/100.)**2.)\n",
    "    \n",
    "    b1Int = 0.313*(OmM*(Ho/100.)**2.)**(-0.419)*(1.+0.607*(OmM*(Ho/100.)**2.)**(0.674))\n",
    "    b2Int = 0.238*(OmM*(Ho/100.)**2.)**(0.223)\n",
    "    zdragInt = 1291.*(OmM*(Ho/100.)**2.)**(0.251)*(1.+b1Int*OmBh2**b2Int)/(1.+0.659*(OmM*(Ho/100.)**2.)**(0.828))\n",
    "    return zdragInt\n",
    "\n",
    "z_drag(0.27, 72., 0.0221)"
   ]
  },
  {
   "cell_type": "code",
   "execution_count": null,
   "metadata": {
    "collapsed": true
   },
   "outputs": [],
   "source": [
    "# 1019.8530867914026"
   ]
  },
  {
   "cell_type": "markdown",
   "metadata": {},
   "source": [
    "## $z_{\\rm equality}$  of Einsenstein & Hu, 1998\n",
    "\n",
    "$z_{\\rm eq} = $ The transition from radiation-dominated universe to matter-dominated universe.\n",
    "At this redshift both components have equal density.\n",
    "\n",
    "Eisenstein-Hu-1998-BaryonicFeaturesInTheMatterTransferFunction-N.pdf. Equation   (2)"
   ]
  },
  {
   "cell_type": "code",
   "execution_count": 6,
   "metadata": {
    "collapsed": false
   },
   "outputs": [
    {
     "data": {
      "text/plain": [
       "3173.7845784691253"
      ]
     },
     "execution_count": 6,
     "metadata": {},
     "output_type": "execute_result"
    }
   ],
   "source": [
    "def z_equality(OmM, Ho):\n",
    "    \"z of equality between radiation and matter\"\n",
    "    theta27 = T_CMB/2.7\n",
    "    zEqInt = 25000.*OmM*(Ho/100.)**2./theta27**4.\n",
    "    return zEqInt\n",
    "\n",
    "z_equality(0.27, 70)"
   ]
  },
  {
   "cell_type": "code",
   "execution_count": null,
   "metadata": {
    "collapsed": true
   },
   "outputs": [],
   "source": [
    "# 3173.7845784691253"
   ]
  },
  {
   "cell_type": "markdown",
   "metadata": {},
   "source": [
    "## $k_{\\rm equality}$  of Einsenstein & Hu, 1998\n",
    "\n",
    "The scale of the particle horizon at the equality epoch $z_{\\rm equality}$.\n",
    "\n",
    "Eisenstein-Hu-1998-BaryonicFeaturesInTheMatterTransferFunction-N.pdf. Equation   (3)"
   ]
  },
  {
   "cell_type": "code",
   "execution_count": 8,
   "metadata": {
    "collapsed": false
   },
   "outputs": [
    {
     "data": {
      "text/plain": [
       "2897.9016537193434"
      ]
     },
     "execution_count": 8,
     "metadata": {},
     "output_type": "execute_result"
    }
   ],
   "source": [
    "def k_Equality(OmM, Ho):\n",
    "    return np.sqrt(2.*OmM*z_equality(OmM, Ho))*Ho\n",
    "\n",
    "k_Equality(0.27, 70)"
   ]
  },
  {
   "cell_type": "code",
   "execution_count": null,
   "metadata": {
    "collapsed": true
   },
   "outputs": [],
   "source": [
    "# 2897.9016537193434"
   ]
  },
  {
   "cell_type": "markdown",
   "metadata": {},
   "source": [
    "## $r_s(z_{\\rm drag})$. Approximation. Comoving\n",
    "This expression comes from the equation (6) of the paper of Eisenstein & Hu (1998). Eisenstein-Hu-1998-BaryonicFeaturesInTheMatterTransferFunction-N.pdf.\n",
    "\n",
    "It seems that it also corresponds to the equation (1) of Hu & Sugiyama (1996).\n",
    "\n",
    "Another approximation for r_s(z_drag) is given in equation 12 of Percival-etal-2010-SDSS_BaryonAcousticOscillationsInTheSDSS-7yr-N.pdf\n",
    "\n",
    "In my Mathematica Notebook \"Om_Wde_BAOCMB-M9.nb\" I compute its value and everything is fine."
   ]
  },
  {
   "cell_type": "code",
   "execution_count": 9,
   "metadata": {
    "collapsed": false
   },
   "outputs": [
    {
     "data": {
      "text/plain": [
       "151.9441998204299"
      ]
     },
     "execution_count": 9,
     "metadata": {},
     "output_type": "execute_result"
    }
   ],
   "source": [
    "# Comoving sound horizont\n",
    "def rs_Approx(OmM, Ho, OmBh2):\n",
    "    \n",
    "    theta27 = T_CMB/2.7\n",
    "    \n",
    "    # zDragInt=z_drag(OmM,Ho,OmBh2)\n",
    "    \n",
    "    # OmBh2=(OmB*(Ho/100.)**2.)\n",
    "    \n",
    "    # R = 31.5*OmBh2*1000./(z*theta27**4.) # Main function\n",
    "    REq   = 31.5*OmBh2*1000./(z_equality(OmM,Ho)*theta27**4.)\n",
    "    Rdrag = 31.5*OmBh2*1000./(z_drag(OmM,Ho,OmBh2)*theta27**4.)\n",
    "    \n",
    "    rs_ApproxInt = (2.*c/(3.*k_Equality(OmM, Ho)))*np.sqrt(6./REq)*np.log((np.sqrt(1.+Rdrag)+np.sqrt(Rdrag+REq))/(1.+np.sqrt(REq)))\n",
    "    \n",
    "    return rs_ApproxInt\n",
    "\n",
    "rs_Approx(0.27, 72, 0.0221)"
   ]
  },
  {
   "cell_type": "code",
   "execution_count": null,
   "metadata": {
    "collapsed": true
   },
   "outputs": [],
   "source": [
    "# 151.9441998204299"
   ]
  },
  {
   "cell_type": "markdown",
   "metadata": {},
   "source": [
    "## $D_V$\n",
    "\n",
    "See:\n",
    "\n",
    "- WMAP-5y_Komatsu-etal-2009_CosmologicalInterpretations-N.pdf, equation (1)    \n",
    "    \n",
    "- Eisenstein-Etal-2005-DetectionOf_BAO_In_SDSS-N.pdf, equation (2)\n",
    "\n",
    "- An approximation to D_V  is given in equation (13) of Percival-etal-2010-SDSS_BaryonAcousticOscillationsInTheSDSS-7yr-N.pdf"
   ]
  },
  {
   "cell_type": "code",
   "execution_count": 13,
   "metadata": {
    "collapsed": false
   },
   "outputs": [
    {
     "data": {
      "text/plain": [
       "1311.0952041701448"
      ]
     },
     "execution_count": 13,
     "metadata": {},
     "output_type": "execute_result"
    }
   ],
   "source": [
    "# D_V\n",
    "def DVFlat(z, OmM, wde, wa, Ho, OmBh2, OmR):\n",
    "    \"D_V for flat Universe\"\n",
    "    DVFlatInt = c*((z*InvEHubblePar(z, OmM, wde, wa, Ho, OmBh2, OmR))*(intquad(InvEHubblePar, 0., z, args=(OmM, wde, wa, Ho, OmBh2, OmR))[0])**2.)**(0.33333333)/Ho  \n",
    "    return DVFlatInt\n",
    "\n",
    "DVFlat(0.35, 0.27, -1., -0.1, 72, 0.021, 0.0000612)"
   ]
  },
  {
   "cell_type": "code",
   "execution_count": null,
   "metadata": {
    "collapsed": true
   },
   "outputs": [],
   "source": [
    "# 1311.0952041701448"
   ]
  },
  {
   "cell_type": "markdown",
   "metadata": {},
   "source": [
    "## $A(z) \\equiv (D_V(z)\\sqrt{\\Omega_M H_0^2} )/(cz)$\n",
    "\n",
    "### NOTE: $A(z)$ doesn't depend on $H_0$!!\n",
    "\n",
    "- Eisenstein-Etal-2005-DetectionOf_BAO_In_SDSS-N.pdf, equation (4), (5)\n",
    "- Blake-Etal-2011-WiggleZ-DarkEnergySurvey-MappingTheDistanceRedshiftRelationWithBAO-N.pdf, equation (14)\n",
    "- Blake-Etal-2011-WiggleZ-DarkEnergySurvey-TestingCosmologicalModelWithBAOatZ0.6-N.pdf, equation (2.5)"
   ]
  },
  {
   "cell_type": "code",
   "execution_count": 14,
   "metadata": {
    "collapsed": false
   },
   "outputs": [
    {
     "data": {
      "text/plain": [
       "0.46747658203638021"
      ]
     },
     "execution_count": 14,
     "metadata": {},
     "output_type": "execute_result"
    }
   ],
   "source": [
    "def AA(z, OmM, wde, wa, Ho, OmBh2, OmR):\n",
    "    \n",
    "    AAInt = DVFlat(z, OmM, wde, wa, Ho, OmBh2, OmR)*Ho*np.sqrt(OmM)/(c*z)\n",
    "    return AAInt\n",
    "\n",
    "AA(0.35, 0.27, -1., -0.1, 72, 0.021, 0.0000612)"
   ]
  },
  {
   "cell_type": "code",
   "execution_count": null,
   "metadata": {
    "collapsed": true
   },
   "outputs": [],
   "source": [
    "# 0.46747658203638021"
   ]
  },
  {
   "cell_type": "markdown",
   "metadata": {},
   "source": [
    "## $d_z = r_s(z_{drag})/D_V$. Approximation for $r_s$\n",
    "\n",
    "Percival-etal-2010-SDSS_BaryonAcousticOscillationsInTheSDSS-7yr-N.pdf, below equation (3)"
   ]
  },
  {
   "cell_type": "code",
   "execution_count": 16,
   "metadata": {
    "collapsed": false
   },
   "outputs": [
    {
     "data": {
      "text/plain": [
       "0.11214086042308502"
      ]
     },
     "execution_count": 16,
     "metadata": {},
     "output_type": "execute_result"
    }
   ],
   "source": [
    "def d_z_Approx(z, OmM, wde, wa, Ho, OmBh2, OmR):\n",
    "    \"d_z\"\n",
    "    zDragInt = z_drag(OmM, Ho, OmBh2)\n",
    "    d_zInt = rs_Approx(OmM, Ho, OmBh2)/DVFlat(z, OmM, wde, wa, Ho, OmBh2, OmR)\n",
    "    return d_zInt\n",
    "\n",
    "d_z_Approx(0.35, 0.3, -1.1, -0.1, 72., 0.0221, 0.0000612)"
   ]
  },
  {
   "cell_type": "code",
   "execution_count": null,
   "metadata": {
    "collapsed": true
   },
   "outputs": [],
   "source": [
    "# 0.11214086042308502"
   ]
  },
  {
   "cell_type": "markdown",
   "metadata": {},
   "source": [
    "### Some tests of values"
   ]
  },
  {
   "cell_type": "code",
   "execution_count": null,
   "metadata": {
    "collapsed": true
   },
   "outputs": [],
   "source": [
    "# DVFlat(z, OmM, wde, Ho, OmBh2, OmR)\n",
    "# DVFlat(0.106, 0.27, -1.01, 70, 0.0221, 0.000082)"
   ]
  },
  {
   "cell_type": "code",
   "execution_count": null,
   "metadata": {
    "collapsed": true
   },
   "outputs": [],
   "source": [
    "# 440.85062648836134"
   ]
  },
  {
   "cell_type": "code",
   "execution_count": null,
   "metadata": {
    "collapsed": true
   },
   "outputs": [],
   "source": [
    "# d_z_Approx(z, OmM, wde, Ho, OmBh2, OmR)\n",
    "# d_z_Approx(0.2, 0.27, -1.01, 70, 0.0221, 0.000082), d_z_Approx(0.35, 0.27, -1.01, 70, 0.0221, 0.000082)"
   ]
  },
  {
   "cell_type": "code",
   "execution_count": null,
   "metadata": {
    "collapsed": true
   },
   "outputs": [],
   "source": [
    "# (0.19063871863624005, 0.11433986546632459)"
   ]
  },
  {
   "cell_type": "code",
   "execution_count": null,
   "metadata": {
    "collapsed": true
   },
   "outputs": [],
   "source": [
    "# AA(z, OmM, wde, Ho, OmBh2, OmR)\n",
    "# AA(0.44, 0.27, -1.01, 70, 0.0221, 0.000082), AA(0.60, 0.27, -1.01, 70, 0.0221, 0.000082)"
   ]
  },
  {
   "cell_type": "code",
   "execution_count": null,
   "metadata": {
    "collapsed": true
   },
   "outputs": [],
   "source": [
    "# (0.45331752161308125, 0.42860665917519802)"
   ]
  },
  {
   "cell_type": "code",
   "execution_count": null,
   "metadata": {
    "collapsed": true
   },
   "outputs": [],
   "source": [
    "# d_z_Approx(z, OmM, wde, Ho, OmBh2, OmR)\n",
    "# 1/d_z_Approx(0.35, 0.27, -1.01, 70, 0.0221, 0.000082), 1/d_z_Approx(0.57, 0.27, -1.01, 70, 0.0221, 0.000082)"
   ]
  },
  {
   "cell_type": "code",
   "execution_count": null,
   "metadata": {
    "collapsed": true
   },
   "outputs": [],
   "source": [
    "# (8.7458560137498171, 13.201359018985027)"
   ]
  },
  {
   "cell_type": "code",
   "execution_count": null,
   "metadata": {
    "collapsed": true
   },
   "outputs": [],
   "source": []
  },
  {
   "cell_type": "markdown",
   "metadata": {},
   "source": [
    "---------"
   ]
  },
  {
   "cell_type": "markdown",
   "metadata": {},
   "source": [
    "# CMB  (distance priors)"
   ]
  },
  {
   "cell_type": "code",
   "execution_count": null,
   "metadata": {
    "collapsed": true
   },
   "outputs": [],
   "source": [
    "print \"For CMB distance priors:\""
   ]
  },
  {
   "cell_type": "markdown",
   "metadata": {},
   "source": [
    "## $z_*$ Redshift at the decoupling (aka, last scattering) epoch of photons"
   ]
  },
  {
   "cell_type": "markdown",
   "metadata": {},
   "source": [
    "$ z_{\\rm decoupling} = z_{\\text{last scattering}} = z_* $ = Redshift for which optical depth equals unity (WMAP 5y).\n",
    "\n",
    "The following expression is taken from eq. (E1) of Hu & Sugiyama (1996).\n",
    "WayneHu-Sugiyama-1996-SmallScaleCosmologicalPerturbations-AnAnalyticApproach.pdf\n",
    "\n",
    "Eqs. (3)-(5), WMAP-5y_Komatsu-etal-2009_CosmologicalInterpretations-N.pdf\n",
    "\n",
    "Several cosmological fittings, assume $z_*$ as a fixed value.\n",
    "$z_* = 1090.43$: A fixed value, from Planck (Table 2). The uncertainty is $\\pm 0.54$"
   ]
  },
  {
   "cell_type": "code",
   "execution_count": 17,
   "metadata": {
    "collapsed": false
   },
   "outputs": [
    {
     "data": {
      "text/plain": [
       "1092.0365520409787"
      ]
     },
     "execution_count": 17,
     "metadata": {},
     "output_type": "execute_result"
    }
   ],
   "source": [
    "def z_Dec(OmM, Ho, OmBh2):\n",
    "    \"Redshift at the decoupling (aka, last scattering) epoch of photons\"\n",
    "    \n",
    "    # OmBh2=(OmB*(Ho/100.)**2.)\n",
    "\n",
    "    g1 = 0.0783*OmBh2**(-0.238)/(1.+39.5*OmBh2**(0.763))\n",
    "    g2 = 0.560/(1.+21.1*OmBh2**(1.81))\n",
    "    \n",
    "    z_DecInt = 1048.*(1.+0.00124*OmBh2**(-0.738))*(1.+g1*(OmM*(Ho/100.)**2.)**g2)\n",
    "    return z_DecInt\n",
    "\n",
    "# z_Dec(0.27, 72, 0.0221)"
   ]
  },
  {
   "cell_type": "code",
   "execution_count": null,
   "metadata": {
    "collapsed": true
   },
   "outputs": [],
   "source": [
    "# 1092.0365520409787"
   ]
  },
  {
   "cell_type": "markdown",
   "metadata": {},
   "source": [
    "## $r_s(z)$. Exact. Comoving."
   ]
  },
  {
   "cell_type": "markdown",
   "metadata": {},
   "source": [
    "Equation (6) of WMAP-5y_Komatsu-etal-2009_CosmologicalInterpretations-N.pdf"
   ]
  },
  {
   "cell_type": "code",
   "execution_count": 19,
   "metadata": {
    "collapsed": false
   },
   "outputs": [
    {
     "data": {
      "text/plain": [
       "145.95932489997998"
      ]
     },
     "execution_count": 19,
     "metadata": {},
     "output_type": "execute_result"
    }
   ],
   "source": [
    "# Comoving sound horizon\n",
    "\n",
    "# Integrand for r_s\n",
    "def Integrand_r_s(a, OmM, wde, wa, Ho, OmBh2, OmR):\n",
    "    \"Integrand for r_s\"\n",
    "    # OmBh2=(OmB*(Ho/100.)**2.)\n",
    "    Integrand_r_sInt = c*InvEHubblePar_a(a,OmM,wde,wa,Ho,OmBh2,OmR)/(a**2.*np.sqrt(1.+(3.*OmBh2/(4.*OmGammah2))*a)*Ho*3**(0.5)) \n",
    "    return Integrand_r_sInt\n",
    "\n",
    "# Comoving sound horizon\n",
    "def r_s(z, OmM, wde, wa, Ho, OmBh2, OmR):\n",
    "    \"Comoving sound horizon\"\n",
    "    aLim = 1./(1.+z) \n",
    "    r_sInt = intquad(Integrand_r_s, 0.0000001, aLim, args=(OmM,wde,wa,Ho,OmBh2,OmR))[0]\n",
    "    return r_sInt\n",
    "\n",
    "r_s(1090.43, 0.27, -1., -0.1, 70., 0.0221, 0.000088)"
   ]
  },
  {
   "cell_type": "code",
   "execution_count": null,
   "metadata": {
    "collapsed": true
   },
   "outputs": [],
   "source": [
    "# 145.95932489997998"
   ]
  },
  {
   "cell_type": "markdown",
   "metadata": {},
   "source": [
    "## $\\theta(z) \\equiv r_s(z_*)/D_A(z)$."
   ]
  },
  {
   "cell_type": "markdown",
   "metadata": {},
   "source": [
    "- Equation (10) and section 3.1 of Planck's paper 16-CosmologicalParameters-Published-N.pdf\n",
    "\n",
    "NOTE: Using theta, I obtain contours that are oriented in the opposite direction that the usual constraints for (OmM,w) from CMB. This is normal and correct.\n",
    "\n",
    "About using R instead of theta, for CMB: R is closer in aspect to the full CMB analysis. However, theta is more accurate and it is suggested in the literature  that it should be used to test cosmological models.\n"
   ]
  },
  {
   "cell_type": "code",
   "execution_count": 20,
   "metadata": {
    "collapsed": false
   },
   "outputs": [
    {
     "data": {
      "text/plain": [
       "0.010454128012617596"
      ]
     },
     "execution_count": 20,
     "metadata": {},
     "output_type": "execute_result"
    }
   ],
   "source": [
    "\n",
    "def theta_MC(OmM, wde, wa, Ho, OmBh2, OmR):\n",
    "    \"theta_MC == r_s/D_A\"\n",
    "    \n",
    "    zStar = z_Dec(OmM, Ho, OmBh2)\n",
    "    \n",
    "    # Using the fact that D_A = LumDistanceVec/(1.+z)**2:\n",
    "    \n",
    "    theta_MCInt = r_s(zStar, OmM, wde, wa, Ho, OmBh2, OmR)*(1.+zStar)**1./LumDistanceVec(zStar, OmM, wde, wa, Ho, OmBh2, OmR)  \n",
    "    return theta_MCInt\n",
    "\n",
    "theta_MC(0.27, -1.05, -0.1, 70, 0.0221, 0.00008)"
   ]
  },
  {
   "cell_type": "code",
   "execution_count": null,
   "metadata": {
    "collapsed": true
   },
   "outputs": [],
   "source": [
    "# 0.010454128012617596"
   ]
  },
  {
   "cell_type": "markdown",
   "metadata": {},
   "source": [
    "## $R \\equiv \\frac{H_0}{c} \\sqrt{\\Omega_M} (1+ z_*) D_A(z_*)$.\n",
    "### NOTE: When assuming $z_* =$ constant/fix value (e.g., $z_* =1089$), then  $R$  doesn't depend on $H_0$!!"
   ]
  },
  {
   "cell_type": "markdown",
   "metadata": {},
   "source": [
    "See Equation (69) of WMAP-5y_Komatsu-etal-2009_CosmologicalInterpretations-N.pdf\n",
    "\n",
    "\n",
    "Yun Wang and Shuang Wang, equation (4), \"Distance priors from Planck and dark energy constraints from current data\", PHYSICAL REVIEW D 88, 043522 (2013).\n",
    "\\begin{equation}\n",
    "r(z) = (1+z) D_A(z)\n",
    "\\end{equation}\n",
    "\n",
    "Here, it is also shown the distance priors derived from Planck."
   ]
  },
  {
   "cell_type": "code",
   "execution_count": 21,
   "metadata": {
    "collapsed": false
   },
   "outputs": [
    {
     "data": {
      "text/plain": [
       "1.7418597575930219"
      ]
     },
     "execution_count": 21,
     "metadata": {},
     "output_type": "execute_result"
    }
   ],
   "source": [
    "# Using the approximated expression of Einsenstein & Hu for the physical sound horizon r_s\n",
    "\n",
    "def R_CMB(OmM, wde, wa, Ho, OmBh2, OmR):\n",
    "    \"Shift parameter\"\n",
    "    \n",
    "    zStar = z_Dec(OmM, Ho, OmBh2)\n",
    "    \n",
    "    # Using the fact that D_A = LumDistanceVec/(1.+z)**2:  \n",
    "    R_CMBInt = LumDistanceVec(zStar, OmM, wde, wa, Ho, OmBh2, OmR)*Ho*np.sqrt(OmM)/(c*(1.+zStar))\n",
    "    \n",
    "    return R_CMBInt\n",
    "\n",
    "# R_CMB(0.27, -1.1, -0.1, 70, 0.0221, 0.000085)"
   ]
  },
  {
   "cell_type": "code",
   "execution_count": null,
   "metadata": {
    "collapsed": true
   },
   "outputs": [],
   "source": [
    "# 1.7418597575930219"
   ]
  },
  {
   "cell_type": "code",
   "execution_count": 23,
   "metadata": {
    "collapsed": false
   },
   "outputs": [
    {
     "data": {
      "text/plain": [
       "1.7418597575930219"
      ]
     },
     "execution_count": 23,
     "metadata": {},
     "output_type": "execute_result"
    }
   ],
   "source": [
    "# Using the approximated expression of Einsenstein & Hu for the physical sound horizon r_s\n",
    "\n",
    "def RzStarFix_CMB(OmM, wde, wa, Ho, OmBh2, OmR):\n",
    "    \"Shift parameter\"\n",
    "    \n",
    "    zStar = zStarFix # Old value but still very used.\n",
    "    # zStar = 1090.43 # A fixed value, from Planck (Table 2). The uncertainty is +-0.54\n",
    "    \n",
    "    # Using the fact that D_A = LumDistanceVec/(1.+z)**2:  \n",
    "    R_CMBInt = LumDistanceVec(zStar, OmM, wde, wa, Ho, OmBh2, OmR)*Ho*np.sqrt(OmM)/(c*(1.+zStar))\n",
    "    \n",
    "    return R_CMBInt\n",
    "\n",
    "R_CMB(0.27, -1.1, -0.1, 70, 0.0221, 0.000085)"
   ]
  },
  {
   "cell_type": "code",
   "execution_count": null,
   "metadata": {
    "collapsed": true
   },
   "outputs": [],
   "source": [
    "# 1.7418597575930219"
   ]
  },
  {
   "cell_type": "markdown",
   "metadata": {},
   "source": [
    "## $l_a \\equiv \\pi (1+z_*)D_A(z_*)/r_s(z_*)$"
   ]
  },
  {
   "cell_type": "markdown",
   "metadata": {},
   "source": [
    "Equation (4) of Wang-Etal-2013-DistancePriorsFromPlanck-AndDEConstraints-N.pdf"
   ]
  },
  {
   "cell_type": "code",
   "execution_count": 25,
   "metadata": {
    "collapsed": false
   },
   "outputs": [
    {
     "data": {
      "text/plain": [
       "302.14697750479746"
      ]
     },
     "execution_count": 25,
     "metadata": {},
     "output_type": "execute_result"
    }
   ],
   "source": [
    "def l_a(OmM, wde, wa, Ho, OmBh2, OmR):\n",
    "    zStar = z_Dec(OmM, Ho, OmBh2)\n",
    "    # Using the fact that D_A = LumDistanceVec/(1.+z)**2:\n",
    "    l_aInt = np.pi*LumDistanceVec(zStar, OmM, wde, wa, Ho, OmBh2, OmR)/((1.+zStar)*r_s(zStar, OmM, wde, wa, Ho, OmBh2, OmR))  \n",
    "    return l_aInt\n",
    "\n",
    "l_a(0.28, -1., -0.1, 70, 0.0221, 0.000085)"
   ]
  },
  {
   "cell_type": "code",
   "execution_count": null,
   "metadata": {
    "collapsed": true
   },
   "outputs": [],
   "source": [
    "# 302.14697750479746"
   ]
  },
  {
   "cell_type": "code",
   "execution_count": null,
   "metadata": {
    "collapsed": true
   },
   "outputs": [],
   "source": []
  }
 ],
 "metadata": {
  "kernelspec": {
   "display_name": "Python 2",
   "language": "python",
   "name": "python2"
  },
  "language_info": {
   "codemirror_mode": {
    "name": "ipython",
    "version": 2
   },
   "file_extension": ".py",
   "mimetype": "text/x-python",
   "name": "python",
   "nbconvert_exporter": "python",
   "pygments_lexer": "ipython2",
   "version": "2.7.10"
  }
 },
 "nbformat": 4,
 "nbformat_minor": 0
}
